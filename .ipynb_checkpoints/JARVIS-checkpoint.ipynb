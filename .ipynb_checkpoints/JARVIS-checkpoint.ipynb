{
 "cells": [
  {
   "cell_type": "markdown",
   "metadata": {},
   "source": [
    "# The code used for the JARVIS AI hackathon at IIT Madras. This was held in 2019 in the month of January. After that, this notebook was updated for removing clumsiness and for easy execution."
   ]
  },
  {
   "cell_type": "code",
   "execution_count": 83,
   "metadata": {},
   "outputs": [],
   "source": [
    "import pandas as pd\n",
    "import numpy as np"
   ]
  },
  {
   "cell_type": "code",
   "execution_count": 84,
   "metadata": {},
   "outputs": [],
   "source": [
    "import matplotlib.pyplot as plt\n",
    "import seaborn as sns\n",
    "%matplotlib inline"
   ]
  },
  {
   "cell_type": "code",
   "execution_count": 85,
   "metadata": {},
   "outputs": [],
   "source": [
    "train = pd.read_csv('train.csv')"
   ]
  },
  {
   "cell_type": "code",
   "execution_count": 86,
   "metadata": {},
   "outputs": [
    {
     "data": {
      "text/html": [
       "<div>\n",
       "<style scoped>\n",
       "    .dataframe tbody tr th:only-of-type {\n",
       "        vertical-align: middle;\n",
       "    }\n",
       "\n",
       "    .dataframe tbody tr th {\n",
       "        vertical-align: top;\n",
       "    }\n",
       "\n",
       "    .dataframe thead th {\n",
       "        text-align: right;\n",
       "    }\n",
       "</style>\n",
       "<table border=\"1\" class=\"dataframe\">\n",
       "  <thead>\n",
       "    <tr style=\"text-align: right;\">\n",
       "      <th></th>\n",
       "      <th>id</th>\n",
       "      <th>region_id</th>\n",
       "      <th>category_id</th>\n",
       "      <th>district_id</th>\n",
       "      <th>city_id</th>\n",
       "      <th>user_id</th>\n",
       "      <th>created_at_first</th>\n",
       "      <th>title</th>\n",
       "      <th>description</th>\n",
       "      <th>listing_num_images</th>\n",
       "      <th>listing_price</th>\n",
       "      <th>l1</th>\n",
       "      <th>l2</th>\n",
       "      <th>demand</th>\n",
       "    </tr>\n",
       "  </thead>\n",
       "  <tbody>\n",
       "    <tr>\n",
       "      <th>0</th>\n",
       "      <td>1000001</td>\n",
       "      <td>5040</td>\n",
       "      <td>910</td>\n",
       "      <td>65535.0</td>\n",
       "      <td>61232</td>\n",
       "      <td>1047742</td>\n",
       "      <td>2018-06-05 10:58:33</td>\n",
       "      <td>Heavy duty steel prison bars, can be used as g...</td>\n",
       "      <td>Heavy duty steel prison bars, can be used as g...</td>\n",
       "      <td>1</td>\n",
       "      <td>1500.0</td>\n",
       "      <td>Home, Garden &amp; Tools</td>\n",
       "      <td>Tools &amp; DIY</td>\n",
       "      <td>0.203867</td>\n",
       "    </tr>\n",
       "    <tr>\n",
       "      <th>1</th>\n",
       "      <td>1000002</td>\n",
       "      <td>5042</td>\n",
       "      <td>807</td>\n",
       "      <td>65535.0</td>\n",
       "      <td>7000598</td>\n",
       "      <td>1113762</td>\n",
       "      <td>2018-06-05 11:01:46</td>\n",
       "      <td>6 seater dinning room suite available only had...</td>\n",
       "      <td>Hi I have moved to a smaller place and there i...</td>\n",
       "      <td>2</td>\n",
       "      <td>3000.0</td>\n",
       "      <td>Home, Garden &amp; Tools</td>\n",
       "      <td>Furniture &amp; Decor</td>\n",
       "      <td>0.323121</td>\n",
       "    </tr>\n",
       "    <tr>\n",
       "      <th>2</th>\n",
       "      <td>1000006</td>\n",
       "      <td>5048</td>\n",
       "      <td>378</td>\n",
       "      <td>65535.0</td>\n",
       "      <td>61491</td>\n",
       "      <td>1176953</td>\n",
       "      <td>2018-06-05 11:10:16</td>\n",
       "      <td>Toyota Hilux 2011 model very low milege FSH wi...</td>\n",
       "      <td>2011 Hilux for sale  very low milege  canopy i...</td>\n",
       "      <td>3</td>\n",
       "      <td>142000.0</td>\n",
       "      <td>Vehicles</td>\n",
       "      <td>Cars &amp; Bakkies</td>\n",
       "      <td>0.407734</td>\n",
       "    </tr>\n",
       "    <tr>\n",
       "      <th>3</th>\n",
       "      <td>1000007</td>\n",
       "      <td>5042</td>\n",
       "      <td>807</td>\n",
       "      <td>65535.0</td>\n",
       "      <td>61323</td>\n",
       "      <td>1031691</td>\n",
       "      <td>2018-06-05 11:11:44</td>\n",
       "      <td>Black wooden coffee table</td>\n",
       "      <td>Excellent condition. Price negotiable</td>\n",
       "      <td>1</td>\n",
       "      <td>760.0</td>\n",
       "      <td>Home, Garden &amp; Tools</td>\n",
       "      <td>Furniture &amp; Decor</td>\n",
       "      <td>0.407734</td>\n",
       "    </tr>\n",
       "    <tr>\n",
       "      <th>4</th>\n",
       "      <td>1000008</td>\n",
       "      <td>5043</td>\n",
       "      <td>803</td>\n",
       "      <td>65535.0</td>\n",
       "      <td>61370</td>\n",
       "      <td>1176918</td>\n",
       "      <td>2018-06-05 11:11:55</td>\n",
       "      <td>Repairs and fixing of all laptops and computer...</td>\n",
       "      <td>we are expert in all laptops repairs and fixin...</td>\n",
       "      <td>1</td>\n",
       "      <td>450.0</td>\n",
       "      <td>Electronics &amp; Computers</td>\n",
       "      <td>Computers &amp; Laptops</td>\n",
       "      <td>0.203867</td>\n",
       "    </tr>\n",
       "  </tbody>\n",
       "</table>\n",
       "</div>"
      ],
      "text/plain": [
       "        id  region_id  category_id  district_id  city_id  user_id  \\\n",
       "0  1000001       5040          910      65535.0    61232  1047742   \n",
       "1  1000002       5042          807      65535.0  7000598  1113762   \n",
       "2  1000006       5048          378      65535.0    61491  1176953   \n",
       "3  1000007       5042          807      65535.0    61323  1031691   \n",
       "4  1000008       5043          803      65535.0    61370  1176918   \n",
       "\n",
       "      created_at_first                                              title  \\\n",
       "0  2018-06-05 10:58:33  Heavy duty steel prison bars, can be used as g...   \n",
       "1  2018-06-05 11:01:46  6 seater dinning room suite available only had...   \n",
       "2  2018-06-05 11:10:16  Toyota Hilux 2011 model very low milege FSH wi...   \n",
       "3  2018-06-05 11:11:44                          Black wooden coffee table   \n",
       "4  2018-06-05 11:11:55  Repairs and fixing of all laptops and computer...   \n",
       "\n",
       "                                         description  listing_num_images  \\\n",
       "0  Heavy duty steel prison bars, can be used as g...                   1   \n",
       "1  Hi I have moved to a smaller place and there i...                   2   \n",
       "2  2011 Hilux for sale  very low milege  canopy i...                   3   \n",
       "3              Excellent condition. Price negotiable                   1   \n",
       "4  we are expert in all laptops repairs and fixin...                   1   \n",
       "\n",
       "   listing_price                       l1                   l2    demand  \n",
       "0         1500.0     Home, Garden & Tools          Tools & DIY  0.203867  \n",
       "1         3000.0     Home, Garden & Tools    Furniture & Decor  0.323121  \n",
       "2       142000.0                 Vehicles       Cars & Bakkies  0.407734  \n",
       "3          760.0     Home, Garden & Tools    Furniture & Decor  0.407734  \n",
       "4          450.0  Electronics & Computers  Computers & Laptops  0.203867  "
      ]
     },
     "execution_count": 86,
     "metadata": {},
     "output_type": "execute_result"
    }
   ],
   "source": [
    "train.head()"
   ]
  },
  {
   "cell_type": "code",
   "execution_count": 87,
   "metadata": {},
   "outputs": [
    {
     "name": "stdout",
     "output_type": "stream",
     "text": [
      "<class 'pandas.core.frame.DataFrame'>\n",
      "RangeIndex: 347014 entries, 0 to 347013\n",
      "Data columns (total 14 columns):\n",
      "id                    347014 non-null int64\n",
      "region_id             347014 non-null int64\n",
      "category_id           347014 non-null int64\n",
      "district_id           346864 non-null float64\n",
      "city_id               347014 non-null int64\n",
      "user_id               347014 non-null int64\n",
      "created_at_first      347014 non-null object\n",
      "title                 347014 non-null object\n",
      "description           267376 non-null object\n",
      "listing_num_images    347014 non-null int64\n",
      "listing_price         346292 non-null float64\n",
      "l1                    347014 non-null object\n",
      "l2                    347014 non-null object\n",
      "demand                347014 non-null float64\n",
      "dtypes: float64(3), int64(6), object(5)\n",
      "memory usage: 37.1+ MB\n"
     ]
    }
   ],
   "source": [
    "train.info()"
   ]
  },
  {
   "cell_type": "code",
   "execution_count": 88,
   "metadata": {},
   "outputs": [
    {
     "data": {
      "text/plain": [
       "<matplotlib.axes._subplots.AxesSubplot at 0x7fb1506db4a8>"
      ]
     },
     "execution_count": 88,
     "metadata": {},
     "output_type": "execute_result"
    },
    {
     "data": {
      "image/png": "[encoded data removed]",
      "text/plain": [
       "<Figure size 432x288 with 2 Axes>"
      ]
     },
     "metadata": {
      "needs_background": "light"
     },
     "output_type": "display_data"
    }
   ],
   "source": [
    "sns.heatmap(train.isnull(),cmap='viridis')"
   ]
  },
  {
   "cell_type": "code",
   "execution_count": 89,
   "metadata": {},
   "outputs": [],
   "source": [
    "train.drop(['description'],axis=1,inplace=True)"
   ]
  },
  {
   "cell_type": "code",
   "execution_count": 90,
   "metadata": {},
   "outputs": [
    {
     "data": {
      "text/html": [
       "<div>\n",
       "<style scoped>\n",
       "    .dataframe tbody tr th:only-of-type {\n",
       "        vertical-align: middle;\n",
       "    }\n",
       "\n",
       "    .dataframe tbody tr th {\n",
       "        vertical-align: top;\n",
       "    }\n",
       "\n",
       "    .dataframe thead th {\n",
       "        text-align: right;\n",
       "    }\n",
       "</style>\n",
       "<table border=\"1\" class=\"dataframe\">\n",
       "  <thead>\n",
       "    <tr style=\"text-align: right;\">\n",
       "      <th></th>\n",
       "      <th>id</th>\n",
       "      <th>region_id</th>\n",
       "      <th>category_id</th>\n",
       "      <th>district_id</th>\n",
       "      <th>city_id</th>\n",
       "      <th>user_id</th>\n",
       "      <th>created_at_first</th>\n",
       "      <th>title</th>\n",
       "      <th>listing_num_images</th>\n",
       "      <th>listing_price</th>\n",
       "      <th>l1</th>\n",
       "      <th>l2</th>\n",
       "      <th>demand</th>\n",
       "    </tr>\n",
       "  </thead>\n",
       "  <tbody>\n",
       "    <tr>\n",
       "      <th>0</th>\n",
       "      <td>1000001</td>\n",
       "      <td>5040</td>\n",
       "      <td>910</td>\n",
       "      <td>65535.0</td>\n",
       "      <td>61232</td>\n",
       "      <td>1047742</td>\n",
       "      <td>2018-06-05 10:58:33</td>\n",
       "      <td>Heavy duty steel prison bars, can be used as g...</td>\n",
       "      <td>1</td>\n",
       "      <td>1500.0</td>\n",
       "      <td>Home, Garden &amp; Tools</td>\n",
       "      <td>Tools &amp; DIY</td>\n",
       "      <td>0.203867</td>\n",
       "    </tr>\n",
       "    <tr>\n",
       "      <th>1</th>\n",
       "      <td>1000002</td>\n",
       "      <td>5042</td>\n",
       "      <td>807</td>\n",
       "      <td>65535.0</td>\n",
       "      <td>7000598</td>\n",
       "      <td>1113762</td>\n",
       "      <td>2018-06-05 11:01:46</td>\n",
       "      <td>6 seater dinning room suite available only had...</td>\n",
       "      <td>2</td>\n",
       "      <td>3000.0</td>\n",
       "      <td>Home, Garden &amp; Tools</td>\n",
       "      <td>Furniture &amp; Decor</td>\n",
       "      <td>0.323121</td>\n",
       "    </tr>\n",
       "    <tr>\n",
       "      <th>2</th>\n",
       "      <td>1000006</td>\n",
       "      <td>5048</td>\n",
       "      <td>378</td>\n",
       "      <td>65535.0</td>\n",
       "      <td>61491</td>\n",
       "      <td>1176953</td>\n",
       "      <td>2018-06-05 11:10:16</td>\n",
       "      <td>Toyota Hilux 2011 model very low milege FSH wi...</td>\n",
       "      <td>3</td>\n",
       "      <td>142000.0</td>\n",
       "      <td>Vehicles</td>\n",
       "      <td>Cars &amp; Bakkies</td>\n",
       "      <td>0.407734</td>\n",
       "    </tr>\n",
       "    <tr>\n",
       "      <th>3</th>\n",
       "      <td>1000007</td>\n",
       "      <td>5042</td>\n",
       "      <td>807</td>\n",
       "      <td>65535.0</td>\n",
       "      <td>61323</td>\n",
       "      <td>1031691</td>\n",
       "      <td>2018-06-05 11:11:44</td>\n",
       "      <td>Black wooden coffee table</td>\n",
       "      <td>1</td>\n",
       "      <td>760.0</td>\n",
       "      <td>Home, Garden &amp; Tools</td>\n",
       "      <td>Furniture &amp; Decor</td>\n",
       "      <td>0.407734</td>\n",
       "    </tr>\n",
       "    <tr>\n",
       "      <th>4</th>\n",
       "      <td>1000008</td>\n",
       "      <td>5043</td>\n",
       "      <td>803</td>\n",
       "      <td>65535.0</td>\n",
       "      <td>61370</td>\n",
       "      <td>1176918</td>\n",
       "      <td>2018-06-05 11:11:55</td>\n",
       "      <td>Repairs and fixing of all laptops and computer...</td>\n",
       "      <td>1</td>\n",
       "      <td>450.0</td>\n",
       "      <td>Electronics &amp; Computers</td>\n",
       "      <td>Computers &amp; Laptops</td>\n",
       "      <td>0.203867</td>\n",
       "    </tr>\n",
       "  </tbody>\n",
       "</table>\n",
       "</div>"
      ],
      "text/plain": [
       "        id  region_id  category_id  district_id  city_id  user_id  \\\n",
       "0  1000001       5040          910      65535.0    61232  1047742   \n",
       "1  1000002       5042          807      65535.0  7000598  1113762   \n",
       "2  1000006       5048          378      65535.0    61491  1176953   \n",
       "3  1000007       5042          807      65535.0    61323  1031691   \n",
       "4  1000008       5043          803      65535.0    61370  1176918   \n",
       "\n",
       "      created_at_first                                              title  \\\n",
       "0  2018-06-05 10:58:33  Heavy duty steel prison bars, can be used as g...   \n",
       "1  2018-06-05 11:01:46  6 seater dinning room suite available only had...   \n",
       "2  2018-06-05 11:10:16  Toyota Hilux 2011 model very low milege FSH wi...   \n",
       "3  2018-06-05 11:11:44                          Black wooden coffee table   \n",
       "4  2018-06-05 11:11:55  Repairs and fixing of all laptops and computer...   \n",
       "\n",
       "   listing_num_images  listing_price                       l1  \\\n",
       "0                   1         1500.0     Home, Garden & Tools   \n",
       "1                   2         3000.0     Home, Garden & Tools   \n",
       "2                   3       142000.0                 Vehicles   \n",
       "3                   1          760.0     Home, Garden & Tools   \n",
       "4                   1          450.0  Electronics & Computers   \n",
       "\n",
       "                    l2    demand  \n",
       "0          Tools & DIY  0.203867  \n",
       "1    Furniture & Decor  0.323121  \n",
       "2       Cars & Bakkies  0.407734  \n",
       "3    Furniture & Decor  0.407734  \n",
       "4  Computers & Laptops  0.203867  "
      ]
     },
     "execution_count": 90,
     "metadata": {},
     "output_type": "execute_result"
    }
   ],
   "source": [
    "train.head()"
   ]
  },
  {
   "cell_type": "code",
   "execution_count": 91,
   "metadata": {},
   "outputs": [
    {
     "data": {
      "text/plain": [
       "<matplotlib.axes._subplots.AxesSubplot at 0x7fb150620358>"
      ]
     },
     "execution_count": 91,
     "metadata": {},
     "output_type": "execute_result"
    },
    {
     "data": {
      "image/png": "[encoded data removed]",
      "text/plain": [
       "<Figure size 432x288 with 1 Axes>"
      ]
     },
     "metadata": {
      "needs_background": "light"
     },
     "output_type": "display_data"
    }
   ],
   "source": [
    "sns.scatterplot(x=train['region_id'],y=train['demand'])"
   ]
  },
  {
   "cell_type": "code",
   "execution_count": 92,
   "metadata": {},
   "outputs": [
    {
     "data": {
      "text/plain": [
       "<matplotlib.axes._subplots.AxesSubplot at 0x7fb15059dbe0>"
      ]
     },
     "execution_count": 92,
     "metadata": {},
     "output_type": "execute_result"
    },
    {
     "data": {
      "image/png": "[encoded data removed]",
      "text/plain": [
       "<Figure size 432x288 with 1 Axes>"
      ]
     },
     "metadata": {
      "needs_background": "light"
     },
     "output_type": "display_data"
    }
   ],
   "source": [
    "sns.barplot(x='region_id',y='demand',data=train)"
   ]
  },
  {
   "cell_type": "code",
   "execution_count": null,
   "metadata": {},
   "outputs": [],
   "source": []
  },
  {
   "cell_type": "code",
   "execution_count": null,
   "metadata": {},
   "outputs": [],
   "source": []
  },
  {
   "cell_type": "code",
   "execution_count": 93,
   "metadata": {},
   "outputs": [
    {
     "data": {
      "text/html": [
       "<div>\n",
       "<style scoped>\n",
       "    .dataframe tbody tr th:only-of-type {\n",
       "        vertical-align: middle;\n",
       "    }\n",
       "\n",
       "    .dataframe tbody tr th {\n",
       "        vertical-align: top;\n",
       "    }\n",
       "\n",
       "    .dataframe thead th {\n",
       "        text-align: right;\n",
       "    }\n",
       "</style>\n",
       "<table border=\"1\" class=\"dataframe\">\n",
       "  <thead>\n",
       "    <tr style=\"text-align: right;\">\n",
       "      <th></th>\n",
       "      <th>id</th>\n",
       "      <th>region_id</th>\n",
       "      <th>category_id</th>\n",
       "      <th>district_id</th>\n",
       "      <th>city_id</th>\n",
       "      <th>user_id</th>\n",
       "      <th>created_at_first</th>\n",
       "      <th>title</th>\n",
       "      <th>listing_num_images</th>\n",
       "      <th>listing_price</th>\n",
       "      <th>l1</th>\n",
       "      <th>l2</th>\n",
       "      <th>demand</th>\n",
       "    </tr>\n",
       "  </thead>\n",
       "  <tbody>\n",
       "    <tr>\n",
       "      <th>0</th>\n",
       "      <td>1000001</td>\n",
       "      <td>5040</td>\n",
       "      <td>910</td>\n",
       "      <td>65535.0</td>\n",
       "      <td>61232</td>\n",
       "      <td>1047742</td>\n",
       "      <td>2018-06-05 10:58:33</td>\n",
       "      <td>Heavy duty steel prison bars, can be used as g...</td>\n",
       "      <td>1</td>\n",
       "      <td>1500.0</td>\n",
       "      <td>Home, Garden &amp; Tools</td>\n",
       "      <td>Tools &amp; DIY</td>\n",
       "      <td>0.203867</td>\n",
       "    </tr>\n",
       "    <tr>\n",
       "      <th>1</th>\n",
       "      <td>1000002</td>\n",
       "      <td>5042</td>\n",
       "      <td>807</td>\n",
       "      <td>65535.0</td>\n",
       "      <td>7000598</td>\n",
       "      <td>1113762</td>\n",
       "      <td>2018-06-05 11:01:46</td>\n",
       "      <td>6 seater dinning room suite available only had...</td>\n",
       "      <td>2</td>\n",
       "      <td>3000.0</td>\n",
       "      <td>Home, Garden &amp; Tools</td>\n",
       "      <td>Furniture &amp; Decor</td>\n",
       "      <td>0.323121</td>\n",
       "    </tr>\n",
       "    <tr>\n",
       "      <th>2</th>\n",
       "      <td>1000006</td>\n",
       "      <td>5048</td>\n",
       "      <td>378</td>\n",
       "      <td>65535.0</td>\n",
       "      <td>61491</td>\n",
       "      <td>1176953</td>\n",
       "      <td>2018-06-05 11:10:16</td>\n",
       "      <td>Toyota Hilux 2011 model very low milege FSH wi...</td>\n",
       "      <td>3</td>\n",
       "      <td>142000.0</td>\n",
       "      <td>Vehicles</td>\n",
       "      <td>Cars &amp; Bakkies</td>\n",
       "      <td>0.407734</td>\n",
       "    </tr>\n",
       "    <tr>\n",
       "      <th>3</th>\n",
       "      <td>1000007</td>\n",
       "      <td>5042</td>\n",
       "      <td>807</td>\n",
       "      <td>65535.0</td>\n",
       "      <td>61323</td>\n",
       "      <td>1031691</td>\n",
       "      <td>2018-06-05 11:11:44</td>\n",
       "      <td>Black wooden coffee table</td>\n",
       "      <td>1</td>\n",
       "      <td>760.0</td>\n",
       "      <td>Home, Garden &amp; Tools</td>\n",
       "      <td>Furniture &amp; Decor</td>\n",
       "      <td>0.407734</td>\n",
       "    </tr>\n",
       "    <tr>\n",
       "      <th>4</th>\n",
       "      <td>1000008</td>\n",
       "      <td>5043</td>\n",
       "      <td>803</td>\n",
       "      <td>65535.0</td>\n",
       "      <td>61370</td>\n",
       "      <td>1176918</td>\n",
       "      <td>2018-06-05 11:11:55</td>\n",
       "      <td>Repairs and fixing of all laptops and computer...</td>\n",
       "      <td>1</td>\n",
       "      <td>450.0</td>\n",
       "      <td>Electronics &amp; Computers</td>\n",
       "      <td>Computers &amp; Laptops</td>\n",
       "      <td>0.203867</td>\n",
       "    </tr>\n",
       "  </tbody>\n",
       "</table>\n",
       "</div>"
      ],
      "text/plain": [
       "        id  region_id  category_id  district_id  city_id  user_id  \\\n",
       "0  1000001       5040          910      65535.0    61232  1047742   \n",
       "1  1000002       5042          807      65535.0  7000598  1113762   \n",
       "2  1000006       5048          378      65535.0    61491  1176953   \n",
       "3  1000007       5042          807      65535.0    61323  1031691   \n",
       "4  1000008       5043          803      65535.0    61370  1176918   \n",
       "\n",
       "      created_at_first                                              title  \\\n",
       "0  2018-06-05 10:58:33  Heavy duty steel prison bars, can be used as g...   \n",
       "1  2018-06-05 11:01:46  6 seater dinning room suite available only had...   \n",
       "2  2018-06-05 11:10:16  Toyota Hilux 2011 model very low milege FSH wi...   \n",
       "3  2018-06-05 11:11:44                          Black wooden coffee table   \n",
       "4  2018-06-05 11:11:55  Repairs and fixing of all laptops and computer...   \n",
       "\n",
       "   listing_num_images  listing_price                       l1  \\\n",
       "0                   1         1500.0     Home, Garden & Tools   \n",
       "1                   2         3000.0     Home, Garden & Tools   \n",
       "2                   3       142000.0                 Vehicles   \n",
       "3                   1          760.0     Home, Garden & Tools   \n",
       "4                   1          450.0  Electronics & Computers   \n",
       "\n",
       "                    l2    demand  \n",
       "0          Tools & DIY  0.203867  \n",
       "1    Furniture & Decor  0.323121  \n",
       "2       Cars & Bakkies  0.407734  \n",
       "3    Furniture & Decor  0.407734  \n",
       "4  Computers & Laptops  0.203867  "
      ]
     },
     "execution_count": 93,
     "metadata": {},
     "output_type": "execute_result"
    }
   ],
   "source": [
    "train.head()"
   ]
  },
  {
   "cell_type": "code",
   "execution_count": null,
   "metadata": {},
   "outputs": [],
   "source": []
  },
  {
   "cell_type": "code",
   "execution_count": 94,
   "metadata": {},
   "outputs": [
    {
     "data": {
      "text/html": [
       "<div>\n",
       "<style scoped>\n",
       "    .dataframe tbody tr th:only-of-type {\n",
       "        vertical-align: middle;\n",
       "    }\n",
       "\n",
       "    .dataframe tbody tr th {\n",
       "        vertical-align: top;\n",
       "    }\n",
       "\n",
       "    .dataframe thead th {\n",
       "        text-align: right;\n",
       "    }\n",
       "</style>\n",
       "<table border=\"1\" class=\"dataframe\">\n",
       "  <thead>\n",
       "    <tr style=\"text-align: right;\">\n",
       "      <th></th>\n",
       "      <th>id</th>\n",
       "      <th>region_id</th>\n",
       "      <th>category_id</th>\n",
       "      <th>district_id</th>\n",
       "      <th>city_id</th>\n",
       "      <th>user_id</th>\n",
       "      <th>created_at_first</th>\n",
       "      <th>title</th>\n",
       "      <th>listing_num_images</th>\n",
       "      <th>listing_price</th>\n",
       "      <th>l1</th>\n",
       "      <th>l2</th>\n",
       "      <th>demand</th>\n",
       "    </tr>\n",
       "  </thead>\n",
       "  <tbody>\n",
       "    <tr>\n",
       "      <th>0</th>\n",
       "      <td>1000001</td>\n",
       "      <td>5040</td>\n",
       "      <td>910</td>\n",
       "      <td>65535.0</td>\n",
       "      <td>61232</td>\n",
       "      <td>1047742</td>\n",
       "      <td>2018-06-05 10:58:33</td>\n",
       "      <td>Heavy duty steel prison bars, can be used as g...</td>\n",
       "      <td>1</td>\n",
       "      <td>1500.0</td>\n",
       "      <td>Home, Garden &amp; Tools</td>\n",
       "      <td>Tools &amp; DIY</td>\n",
       "      <td>0.203867</td>\n",
       "    </tr>\n",
       "    <tr>\n",
       "      <th>1</th>\n",
       "      <td>1000002</td>\n",
       "      <td>5042</td>\n",
       "      <td>807</td>\n",
       "      <td>65535.0</td>\n",
       "      <td>7000598</td>\n",
       "      <td>1113762</td>\n",
       "      <td>2018-06-05 11:01:46</td>\n",
       "      <td>6 seater dinning room suite available only had...</td>\n",
       "      <td>2</td>\n",
       "      <td>3000.0</td>\n",
       "      <td>Home, Garden &amp; Tools</td>\n",
       "      <td>Furniture &amp; Decor</td>\n",
       "      <td>0.323121</td>\n",
       "    </tr>\n",
       "    <tr>\n",
       "      <th>2</th>\n",
       "      <td>1000006</td>\n",
       "      <td>5048</td>\n",
       "      <td>378</td>\n",
       "      <td>65535.0</td>\n",
       "      <td>61491</td>\n",
       "      <td>1176953</td>\n",
       "      <td>2018-06-05 11:10:16</td>\n",
       "      <td>Toyota Hilux 2011 model very low milege FSH wi...</td>\n",
       "      <td>3</td>\n",
       "      <td>142000.0</td>\n",
       "      <td>Vehicles</td>\n",
       "      <td>Cars &amp; Bakkies</td>\n",
       "      <td>0.407734</td>\n",
       "    </tr>\n",
       "    <tr>\n",
       "      <th>3</th>\n",
       "      <td>1000007</td>\n",
       "      <td>5042</td>\n",
       "      <td>807</td>\n",
       "      <td>65535.0</td>\n",
       "      <td>61323</td>\n",
       "      <td>1031691</td>\n",
       "      <td>2018-06-05 11:11:44</td>\n",
       "      <td>Black wooden coffee table</td>\n",
       "      <td>1</td>\n",
       "      <td>760.0</td>\n",
       "      <td>Home, Garden &amp; Tools</td>\n",
       "      <td>Furniture &amp; Decor</td>\n",
       "      <td>0.407734</td>\n",
       "    </tr>\n",
       "    <tr>\n",
       "      <th>4</th>\n",
       "      <td>1000008</td>\n",
       "      <td>5043</td>\n",
       "      <td>803</td>\n",
       "      <td>65535.0</td>\n",
       "      <td>61370</td>\n",
       "      <td>1176918</td>\n",
       "      <td>2018-06-05 11:11:55</td>\n",
       "      <td>Repairs and fixing of all laptops and computer...</td>\n",
       "      <td>1</td>\n",
       "      <td>450.0</td>\n",
       "      <td>Electronics &amp; Computers</td>\n",
       "      <td>Computers &amp; Laptops</td>\n",
       "      <td>0.203867</td>\n",
       "    </tr>\n",
       "  </tbody>\n",
       "</table>\n",
       "</div>"
      ],
      "text/plain": [
       "        id  region_id  category_id  district_id  city_id  user_id  \\\n",
       "0  1000001       5040          910      65535.0    61232  1047742   \n",
       "1  1000002       5042          807      65535.0  7000598  1113762   \n",
       "2  1000006       5048          378      65535.0    61491  1176953   \n",
       "3  1000007       5042          807      65535.0    61323  1031691   \n",
       "4  1000008       5043          803      65535.0    61370  1176918   \n",
       "\n",
       "      created_at_first                                              title  \\\n",
       "0  2018-06-05 10:58:33  Heavy duty steel prison bars, can be used as g...   \n",
       "1  2018-06-05 11:01:46  6 seater dinning room suite available only had...   \n",
       "2  2018-06-05 11:10:16  Toyota Hilux 2011 model very low milege FSH wi...   \n",
       "3  2018-06-05 11:11:44                          Black wooden coffee table   \n",
       "4  2018-06-05 11:11:55  Repairs and fixing of all laptops and computer...   \n",
       "\n",
       "   listing_num_images  listing_price                       l1  \\\n",
       "0                   1         1500.0     Home, Garden & Tools   \n",
       "1                   2         3000.0     Home, Garden & Tools   \n",
       "2                   3       142000.0                 Vehicles   \n",
       "3                   1          760.0     Home, Garden & Tools   \n",
       "4                   1          450.0  Electronics & Computers   \n",
       "\n",
       "                    l2    demand  \n",
       "0          Tools & DIY  0.203867  \n",
       "1    Furniture & Decor  0.323121  \n",
       "2       Cars & Bakkies  0.407734  \n",
       "3    Furniture & Decor  0.407734  \n",
       "4  Computers & Laptops  0.203867  "
      ]
     },
     "execution_count": 94,
     "metadata": {},
     "output_type": "execute_result"
    }
   ],
   "source": [
    "train.head()"
   ]
  },
  {
   "cell_type": "code",
   "execution_count": 95,
   "metadata": {},
   "outputs": [],
   "source": [
    "X = train[['region_id','category_id','city_id','listing_num_images']]\n"
   ]
  },
  {
   "cell_type": "code",
   "execution_count": 96,
   "metadata": {},
   "outputs": [],
   "source": [
    "#X = pd.concat([X,train['demand']],axis=1)"
   ]
  },
  {
   "cell_type": "code",
   "execution_count": 97,
   "metadata": {},
   "outputs": [
    {
     "data": {
      "text/html": [
       "<div>\n",
       "<style scoped>\n",
       "    .dataframe tbody tr th:only-of-type {\n",
       "        vertical-align: middle;\n",
       "    }\n",
       "\n",
       "    .dataframe tbody tr th {\n",
       "        vertical-align: top;\n",
       "    }\n",
       "\n",
       "    .dataframe thead th {\n",
       "        text-align: right;\n",
       "    }\n",
       "</style>\n",
       "<table border=\"1\" class=\"dataframe\">\n",
       "  <thead>\n",
       "    <tr style=\"text-align: right;\">\n",
       "      <th></th>\n",
       "      <th>region_id</th>\n",
       "      <th>category_id</th>\n",
       "      <th>city_id</th>\n",
       "      <th>listing_num_images</th>\n",
       "    </tr>\n",
       "  </thead>\n",
       "  <tbody>\n",
       "    <tr>\n",
       "      <th>0</th>\n",
       "      <td>5040</td>\n",
       "      <td>910</td>\n",
       "      <td>61232</td>\n",
       "      <td>1</td>\n",
       "    </tr>\n",
       "    <tr>\n",
       "      <th>1</th>\n",
       "      <td>5042</td>\n",
       "      <td>807</td>\n",
       "      <td>7000598</td>\n",
       "      <td>2</td>\n",
       "    </tr>\n",
       "    <tr>\n",
       "      <th>2</th>\n",
       "      <td>5048</td>\n",
       "      <td>378</td>\n",
       "      <td>61491</td>\n",
       "      <td>3</td>\n",
       "    </tr>\n",
       "    <tr>\n",
       "      <th>3</th>\n",
       "      <td>5042</td>\n",
       "      <td>807</td>\n",
       "      <td>61323</td>\n",
       "      <td>1</td>\n",
       "    </tr>\n",
       "    <tr>\n",
       "      <th>4</th>\n",
       "      <td>5043</td>\n",
       "      <td>803</td>\n",
       "      <td>61370</td>\n",
       "      <td>1</td>\n",
       "    </tr>\n",
       "  </tbody>\n",
       "</table>\n",
       "</div>"
      ],
      "text/plain": [
       "   region_id  category_id  city_id  listing_num_images\n",
       "0       5040          910    61232                   1\n",
       "1       5042          807  7000598                   2\n",
       "2       5048          378    61491                   3\n",
       "3       5042          807    61323                   1\n",
       "4       5043          803    61370                   1"
      ]
     },
     "execution_count": 97,
     "metadata": {},
     "output_type": "execute_result"
    }
   ],
   "source": [
    "X.head()"
   ]
  },
  {
   "cell_type": "code",
   "execution_count": null,
   "metadata": {},
   "outputs": [],
   "source": []
  },
  {
   "cell_type": "code",
   "execution_count": 98,
   "metadata": {},
   "outputs": [
    {
     "data": {
      "text/html": [
       "<div>\n",
       "<style scoped>\n",
       "    .dataframe tbody tr th:only-of-type {\n",
       "        vertical-align: middle;\n",
       "    }\n",
       "\n",
       "    .dataframe tbody tr th {\n",
       "        vertical-align: top;\n",
       "    }\n",
       "\n",
       "    .dataframe thead th {\n",
       "        text-align: right;\n",
       "    }\n",
       "</style>\n",
       "<table border=\"1\" class=\"dataframe\">\n",
       "  <thead>\n",
       "    <tr style=\"text-align: right;\">\n",
       "      <th></th>\n",
       "      <th>region_id</th>\n",
       "      <th>category_id</th>\n",
       "      <th>city_id</th>\n",
       "      <th>listing_num_images</th>\n",
       "    </tr>\n",
       "  </thead>\n",
       "  <tbody>\n",
       "    <tr>\n",
       "      <th>0</th>\n",
       "      <td>5040</td>\n",
       "      <td>910</td>\n",
       "      <td>61232</td>\n",
       "      <td>1</td>\n",
       "    </tr>\n",
       "    <tr>\n",
       "      <th>1</th>\n",
       "      <td>5042</td>\n",
       "      <td>807</td>\n",
       "      <td>7000598</td>\n",
       "      <td>2</td>\n",
       "    </tr>\n",
       "    <tr>\n",
       "      <th>2</th>\n",
       "      <td>5048</td>\n",
       "      <td>378</td>\n",
       "      <td>61491</td>\n",
       "      <td>3</td>\n",
       "    </tr>\n",
       "    <tr>\n",
       "      <th>3</th>\n",
       "      <td>5042</td>\n",
       "      <td>807</td>\n",
       "      <td>61323</td>\n",
       "      <td>1</td>\n",
       "    </tr>\n",
       "    <tr>\n",
       "      <th>4</th>\n",
       "      <td>5043</td>\n",
       "      <td>803</td>\n",
       "      <td>61370</td>\n",
       "      <td>1</td>\n",
       "    </tr>\n",
       "  </tbody>\n",
       "</table>\n",
       "</div>"
      ],
      "text/plain": [
       "   region_id  category_id  city_id  listing_num_images\n",
       "0       5040          910    61232                   1\n",
       "1       5042          807  7000598                   2\n",
       "2       5048          378    61491                   3\n",
       "3       5042          807    61323                   1\n",
       "4       5043          803    61370                   1"
      ]
     },
     "execution_count": 98,
     "metadata": {},
     "output_type": "execute_result"
    }
   ],
   "source": [
    "X.head()"
   ]
  },
  {
   "cell_type": "code",
   "execution_count": 99,
   "metadata": {},
   "outputs": [
    {
     "name": "stdout",
     "output_type": "stream",
     "text": [
      "<class 'pandas.core.frame.DataFrame'>\n",
      "RangeIndex: 347014 entries, 0 to 347013\n",
      "Data columns (total 4 columns):\n",
      "region_id             347014 non-null int64\n",
      "category_id           347014 non-null int64\n",
      "city_id               347014 non-null int64\n",
      "listing_num_images    347014 non-null int64\n",
      "dtypes: int64(4)\n",
      "memory usage: 10.6 MB\n"
     ]
    }
   ],
   "source": [
    "X.info()"
   ]
  },
  {
   "cell_type": "code",
   "execution_count": 100,
   "metadata": {},
   "outputs": [
    {
     "data": {
      "text/plain": [
       "<matplotlib.axes._subplots.AxesSubplot at 0x7fb15053f390>"
      ]
     },
     "execution_count": 100,
     "metadata": {},
     "output_type": "execute_result"
    },
    {
     "data": {
      "image/png": "[encoded data removed]",
      "text/plain": [
       "<Figure size 432x288 with 2 Axes>"
      ]
     },
     "metadata": {
      "needs_background": "light"
     },
     "output_type": "display_data"
    }
   ],
   "source": [
    "sns.heatmap(X.isnull(),cmap='viridis')"
   ]
  },
  {
   "cell_type": "code",
   "execution_count": 101,
   "metadata": {},
   "outputs": [],
   "source": [
    "c = pd.get_dummies(train['l1'],drop_first=True)"
   ]
  },
  {
   "cell_type": "code",
   "execution_count": 102,
   "metadata": {},
   "outputs": [],
   "source": [
    "X = pd.concat([X,c],axis=1)"
   ]
  },
  {
   "cell_type": "code",
   "execution_count": 103,
   "metadata": {},
   "outputs": [
    {
     "data": {
      "text/html": [
       "<div>\n",
       "<style scoped>\n",
       "    .dataframe tbody tr th:only-of-type {\n",
       "        vertical-align: middle;\n",
       "    }\n",
       "\n",
       "    .dataframe tbody tr th {\n",
       "        vertical-align: top;\n",
       "    }\n",
       "\n",
       "    .dataframe thead th {\n",
       "        text-align: right;\n",
       "    }\n",
       "</style>\n",
       "<table border=\"1\" class=\"dataframe\">\n",
       "  <thead>\n",
       "    <tr style=\"text-align: right;\">\n",
       "      <th></th>\n",
       "      <th>region_id</th>\n",
       "      <th>category_id</th>\n",
       "      <th>city_id</th>\n",
       "      <th>listing_num_images</th>\n",
       "      <th>Farming &amp; Industrial</th>\n",
       "      <th>Fashion &amp; Beauty</th>\n",
       "      <th>Hobbies &amp; Interests</th>\n",
       "      <th>Home, Garden &amp; Tools</th>\n",
       "      <th>Jobs</th>\n",
       "      <th>Kids &amp; Baby</th>\n",
       "      <th>Office &amp; Business</th>\n",
       "      <th>Pets</th>\n",
       "      <th>Property</th>\n",
       "      <th>Services</th>\n",
       "      <th>Sports &amp; Outdoors</th>\n",
       "      <th>Vehicles</th>\n",
       "    </tr>\n",
       "  </thead>\n",
       "  <tbody>\n",
       "    <tr>\n",
       "      <th>0</th>\n",
       "      <td>5040</td>\n",
       "      <td>910</td>\n",
       "      <td>61232</td>\n",
       "      <td>1</td>\n",
       "      <td>0</td>\n",
       "      <td>0</td>\n",
       "      <td>0</td>\n",
       "      <td>1</td>\n",
       "      <td>0</td>\n",
       "      <td>0</td>\n",
       "      <td>0</td>\n",
       "      <td>0</td>\n",
       "      <td>0</td>\n",
       "      <td>0</td>\n",
       "      <td>0</td>\n",
       "      <td>0</td>\n",
       "    </tr>\n",
       "    <tr>\n",
       "      <th>1</th>\n",
       "      <td>5042</td>\n",
       "      <td>807</td>\n",
       "      <td>7000598</td>\n",
       "      <td>2</td>\n",
       "      <td>0</td>\n",
       "      <td>0</td>\n",
       "      <td>0</td>\n",
       "      <td>1</td>\n",
       "      <td>0</td>\n",
       "      <td>0</td>\n",
       "      <td>0</td>\n",
       "      <td>0</td>\n",
       "      <td>0</td>\n",
       "      <td>0</td>\n",
       "      <td>0</td>\n",
       "      <td>0</td>\n",
       "    </tr>\n",
       "    <tr>\n",
       "      <th>2</th>\n",
       "      <td>5048</td>\n",
       "      <td>378</td>\n",
       "      <td>61491</td>\n",
       "      <td>3</td>\n",
       "      <td>0</td>\n",
       "      <td>0</td>\n",
       "      <td>0</td>\n",
       "      <td>0</td>\n",
       "      <td>0</td>\n",
       "      <td>0</td>\n",
       "      <td>0</td>\n",
       "      <td>0</td>\n",
       "      <td>0</td>\n",
       "      <td>0</td>\n",
       "      <td>0</td>\n",
       "      <td>1</td>\n",
       "    </tr>\n",
       "    <tr>\n",
       "      <th>3</th>\n",
       "      <td>5042</td>\n",
       "      <td>807</td>\n",
       "      <td>61323</td>\n",
       "      <td>1</td>\n",
       "      <td>0</td>\n",
       "      <td>0</td>\n",
       "      <td>0</td>\n",
       "      <td>1</td>\n",
       "      <td>0</td>\n",
       "      <td>0</td>\n",
       "      <td>0</td>\n",
       "      <td>0</td>\n",
       "      <td>0</td>\n",
       "      <td>0</td>\n",
       "      <td>0</td>\n",
       "      <td>0</td>\n",
       "    </tr>\n",
       "    <tr>\n",
       "      <th>4</th>\n",
       "      <td>5043</td>\n",
       "      <td>803</td>\n",
       "      <td>61370</td>\n",
       "      <td>1</td>\n",
       "      <td>0</td>\n",
       "      <td>0</td>\n",
       "      <td>0</td>\n",
       "      <td>0</td>\n",
       "      <td>0</td>\n",
       "      <td>0</td>\n",
       "      <td>0</td>\n",
       "      <td>0</td>\n",
       "      <td>0</td>\n",
       "      <td>0</td>\n",
       "      <td>0</td>\n",
       "      <td>0</td>\n",
       "    </tr>\n",
       "  </tbody>\n",
       "</table>\n",
       "</div>"
      ],
      "text/plain": [
       "   region_id  category_id  city_id  listing_num_images  Farming & Industrial  \\\n",
       "0       5040          910    61232                   1                     0   \n",
       "1       5042          807  7000598                   2                     0   \n",
       "2       5048          378    61491                   3                     0   \n",
       "3       5042          807    61323                   1                     0   \n",
       "4       5043          803    61370                   1                     0   \n",
       "\n",
       "   Fashion & Beauty  Hobbies & Interests  Home, Garden & Tools  Jobs  \\\n",
       "0                 0                    0                     1     0   \n",
       "1                 0                    0                     1     0   \n",
       "2                 0                    0                     0     0   \n",
       "3                 0                    0                     1     0   \n",
       "4                 0                    0                     0     0   \n",
       "\n",
       "   Kids & Baby  Office & Business  Pets  Property  Services  \\\n",
       "0            0                  0     0         0         0   \n",
       "1            0                  0     0         0         0   \n",
       "2            0                  0     0         0         0   \n",
       "3            0                  0     0         0         0   \n",
       "4            0                  0     0         0         0   \n",
       "\n",
       "   Sports & Outdoors  Vehicles  \n",
       "0                  0         0  \n",
       "1                  0         0  \n",
       "2                  0         1  \n",
       "3                  0         0  \n",
       "4                  0         0  "
      ]
     },
     "execution_count": 103,
     "metadata": {},
     "output_type": "execute_result"
    }
   ],
   "source": [
    "X.head()"
   ]
  },
  {
   "cell_type": "code",
   "execution_count": 104,
   "metadata": {},
   "outputs": [],
   "source": [
    "c = pd.get_dummies(train['l2'],drop_first=True)"
   ]
  },
  {
   "cell_type": "code",
   "execution_count": 105,
   "metadata": {},
   "outputs": [],
   "source": [
    "X = pd.concat([X,c],axis=1)"
   ]
  },
  {
   "cell_type": "code",
   "execution_count": 106,
   "metadata": {},
   "outputs": [
    {
     "data": {
      "text/html": [
       "<div>\n",
       "<style scoped>\n",
       "    .dataframe tbody tr th:only-of-type {\n",
       "        vertical-align: middle;\n",
       "    }\n",
       "\n",
       "    .dataframe tbody tr th {\n",
       "        vertical-align: top;\n",
       "    }\n",
       "\n",
       "    .dataframe thead th {\n",
       "        text-align: right;\n",
       "    }\n",
       "</style>\n",
       "<table border=\"1\" class=\"dataframe\">\n",
       "  <thead>\n",
       "    <tr style=\"text-align: right;\">\n",
       "      <th></th>\n",
       "      <th>region_id</th>\n",
       "      <th>category_id</th>\n",
       "      <th>city_id</th>\n",
       "      <th>listing_num_images</th>\n",
       "      <th>Farming &amp; Industrial</th>\n",
       "      <th>Fashion &amp; Beauty</th>\n",
       "      <th>Hobbies &amp; Interests</th>\n",
       "      <th>Home, Garden &amp; Tools</th>\n",
       "      <th>Jobs</th>\n",
       "      <th>Kids &amp; Baby</th>\n",
       "      <th>...</th>\n",
       "      <th>Rooms for rent &amp; Shared</th>\n",
       "      <th>Shop &amp; Catering Equipment</th>\n",
       "      <th>TV, Audio &amp; Visual</th>\n",
       "      <th>Toddler's Clothing &amp; Accessories</th>\n",
       "      <th>Tools &amp; DIY</th>\n",
       "      <th>Toys, Games &amp; Remote Control</th>\n",
       "      <th>Transport</th>\n",
       "      <th>Trucks &amp; Commercial Vehicles</th>\n",
       "      <th>Vacation Rentals</th>\n",
       "      <th>iPads &amp; Tablets</th>\n",
       "    </tr>\n",
       "  </thead>\n",
       "  <tbody>\n",
       "    <tr>\n",
       "      <th>0</th>\n",
       "      <td>5040</td>\n",
       "      <td>910</td>\n",
       "      <td>61232</td>\n",
       "      <td>1</td>\n",
       "      <td>0</td>\n",
       "      <td>0</td>\n",
       "      <td>0</td>\n",
       "      <td>1</td>\n",
       "      <td>0</td>\n",
       "      <td>0</td>\n",
       "      <td>...</td>\n",
       "      <td>0</td>\n",
       "      <td>0</td>\n",
       "      <td>0</td>\n",
       "      <td>0</td>\n",
       "      <td>1</td>\n",
       "      <td>0</td>\n",
       "      <td>0</td>\n",
       "      <td>0</td>\n",
       "      <td>0</td>\n",
       "      <td>0</td>\n",
       "    </tr>\n",
       "    <tr>\n",
       "      <th>1</th>\n",
       "      <td>5042</td>\n",
       "      <td>807</td>\n",
       "      <td>7000598</td>\n",
       "      <td>2</td>\n",
       "      <td>0</td>\n",
       "      <td>0</td>\n",
       "      <td>0</td>\n",
       "      <td>1</td>\n",
       "      <td>0</td>\n",
       "      <td>0</td>\n",
       "      <td>...</td>\n",
       "      <td>0</td>\n",
       "      <td>0</td>\n",
       "      <td>0</td>\n",
       "      <td>0</td>\n",
       "      <td>0</td>\n",
       "      <td>0</td>\n",
       "      <td>0</td>\n",
       "      <td>0</td>\n",
       "      <td>0</td>\n",
       "      <td>0</td>\n",
       "    </tr>\n",
       "    <tr>\n",
       "      <th>2</th>\n",
       "      <td>5048</td>\n",
       "      <td>378</td>\n",
       "      <td>61491</td>\n",
       "      <td>3</td>\n",
       "      <td>0</td>\n",
       "      <td>0</td>\n",
       "      <td>0</td>\n",
       "      <td>0</td>\n",
       "      <td>0</td>\n",
       "      <td>0</td>\n",
       "      <td>...</td>\n",
       "      <td>0</td>\n",
       "      <td>0</td>\n",
       "      <td>0</td>\n",
       "      <td>0</td>\n",
       "      <td>0</td>\n",
       "      <td>0</td>\n",
       "      <td>0</td>\n",
       "      <td>0</td>\n",
       "      <td>0</td>\n",
       "      <td>0</td>\n",
       "    </tr>\n",
       "    <tr>\n",
       "      <th>3</th>\n",
       "      <td>5042</td>\n",
       "      <td>807</td>\n",
       "      <td>61323</td>\n",
       "      <td>1</td>\n",
       "      <td>0</td>\n",
       "      <td>0</td>\n",
       "      <td>0</td>\n",
       "      <td>1</td>\n",
       "      <td>0</td>\n",
       "      <td>0</td>\n",
       "      <td>...</td>\n",
       "      <td>0</td>\n",
       "      <td>0</td>\n",
       "      <td>0</td>\n",
       "      <td>0</td>\n",
       "      <td>0</td>\n",
       "      <td>0</td>\n",
       "      <td>0</td>\n",
       "      <td>0</td>\n",
       "      <td>0</td>\n",
       "      <td>0</td>\n",
       "    </tr>\n",
       "    <tr>\n",
       "      <th>4</th>\n",
       "      <td>5043</td>\n",
       "      <td>803</td>\n",
       "      <td>61370</td>\n",
       "      <td>1</td>\n",
       "      <td>0</td>\n",
       "      <td>0</td>\n",
       "      <td>0</td>\n",
       "      <td>0</td>\n",
       "      <td>0</td>\n",
       "      <td>0</td>\n",
       "      <td>...</td>\n",
       "      <td>0</td>\n",
       "      <td>0</td>\n",
       "      <td>0</td>\n",
       "      <td>0</td>\n",
       "      <td>0</td>\n",
       "      <td>0</td>\n",
       "      <td>0</td>\n",
       "      <td>0</td>\n",
       "      <td>0</td>\n",
       "      <td>0</td>\n",
       "    </tr>\n",
       "  </tbody>\n",
       "</table>\n",
       "<p>5 rows × 70 columns</p>\n",
       "</div>"
      ],
      "text/plain": [
       "   region_id  category_id  city_id  listing_num_images  Farming & Industrial  \\\n",
       "0       5040          910    61232                   1                     0   \n",
       "1       5042          807  7000598                   2                     0   \n",
       "2       5048          378    61491                   3                     0   \n",
       "3       5042          807    61323                   1                     0   \n",
       "4       5043          803    61370                   1                     0   \n",
       "\n",
       "   Fashion & Beauty  Hobbies & Interests  Home, Garden & Tools  Jobs  \\\n",
       "0                 0                    0                     1     0   \n",
       "1                 0                    0                     1     0   \n",
       "2                 0                    0                     0     0   \n",
       "3                 0                    0                     1     0   \n",
       "4                 0                    0                     0     0   \n",
       "\n",
       "   Kids & Baby  ...  Rooms for rent & Shared  Shop & Catering Equipment  \\\n",
       "0            0  ...                        0                          0   \n",
       "1            0  ...                        0                          0   \n",
       "2            0  ...                        0                          0   \n",
       "3            0  ...                        0                          0   \n",
       "4            0  ...                        0                          0   \n",
       "\n",
       "   TV, Audio & Visual  Toddler's Clothing & Accessories  Tools & DIY  \\\n",
       "0                   0                                 0            1   \n",
       "1                   0                                 0            0   \n",
       "2                   0                                 0            0   \n",
       "3                   0                                 0            0   \n",
       "4                   0                                 0            0   \n",
       "\n",
       "   Toys, Games & Remote Control  Transport  Trucks & Commercial Vehicles  \\\n",
       "0                             0          0                             0   \n",
       "1                             0          0                             0   \n",
       "2                             0          0                             0   \n",
       "3                             0          0                             0   \n",
       "4                             0          0                             0   \n",
       "\n",
       "   Vacation Rentals  iPads & Tablets  \n",
       "0                 0                0  \n",
       "1                 0                0  \n",
       "2                 0                0  \n",
       "3                 0                0  \n",
       "4                 0                0  \n",
       "\n",
       "[5 rows x 70 columns]"
      ]
     },
     "execution_count": 106,
     "metadata": {},
     "output_type": "execute_result"
    }
   ],
   "source": [
    "X.head()"
   ]
  },
  {
   "cell_type": "code",
   "execution_count": 107,
   "metadata": {},
   "outputs": [
    {
     "data": {
      "text/plain": [
       "0    0.203867\n",
       "1    0.323121\n",
       "2    0.407734\n",
       "3    0.407734\n",
       "4    0.203867\n",
       "Name: demand, dtype: float64"
      ]
     },
     "execution_count": 107,
     "metadata": {},
     "output_type": "execute_result"
    }
   ],
   "source": [
    "y = train['demand']\n",
    "y.head()"
   ]
  },
  {
   "cell_type": "code",
   "execution_count": null,
   "metadata": {},
   "outputs": [],
   "source": []
  },
  {
   "cell_type": "code",
   "execution_count": 108,
   "metadata": {},
   "outputs": [],
   "source": [
    "from sklearn.model_selection import train_test_split"
   ]
  },
  {
   "cell_type": "code",
   "execution_count": 109,
   "metadata": {},
   "outputs": [],
   "source": [
    "X = pd.concat([train['id'],X],axis=1)"
   ]
  },
  {
   "cell_type": "code",
   "execution_count": 110,
   "metadata": {},
   "outputs": [],
   "source": [
    "X_train, X_test, y_train, y_test = train_test_split(X, y, test_size=0.3, random_state=42)"
   ]
  },
  {
   "cell_type": "code",
   "execution_count": 111,
   "metadata": {},
   "outputs": [],
   "source": [
    "from sklearn.linear_model import LinearRegression "
   ]
  },
  {
   "cell_type": "code",
   "execution_count": 112,
   "metadata": {},
   "outputs": [],
   "source": [
    "lm = LinearRegression()"
   ]
  },
  {
   "cell_type": "code",
   "execution_count": 113,
   "metadata": {},
   "outputs": [
    {
     "data": {
      "text/plain": [
       "LinearRegression(copy_X=True, fit_intercept=True, n_jobs=None, normalize=False)"
      ]
     },
     "execution_count": 113,
     "metadata": {},
     "output_type": "execute_result"
    }
   ],
   "source": [
    "lm.fit(X_train,y_train)"
   ]
  },
  {
   "cell_type": "code",
   "execution_count": 114,
   "metadata": {},
   "outputs": [],
   "source": [
    "prediction = lm.predict(X_test)"
   ]
  },
  {
   "cell_type": "code",
   "execution_count": 115,
   "metadata": {},
   "outputs": [
    {
     "data": {
      "text/plain": [
       "<matplotlib.collections.PathCollection at 0x7fb150432d68>"
      ]
     },
     "execution_count": 115,
     "metadata": {},
     "output_type": "execute_result"
    },
    {
     "data": {
      "image/png": "[encoded data removed]",
      "text/plain": [
       "<Figure size 432x288 with 1 Axes>"
      ]
     },
     "metadata": {
      "needs_background": "light"
     },
     "output_type": "display_data"
    }
   ],
   "source": [
    "plt.scatter(y_test,prediction)"
   ]
  },
  {
   "cell_type": "code",
   "execution_count": 116,
   "metadata": {},
   "outputs": [],
   "source": [
    "from sklearn import metrics"
   ]
  },
  {
   "cell_type": "code",
   "execution_count": 117,
   "metadata": {},
   "outputs": [
    {
     "name": "stdout",
     "output_type": "stream",
     "text": [
      "MAE: 0.17733808349333632\n",
      "MSE: 0.04953557327073543\n",
      "RMSE: 0.2225658852356655\n"
     ]
    }
   ],
   "source": [
    "print('MAE:', metrics.mean_absolute_error(y_test, prediction))\n",
    "print('MSE:', metrics.mean_squared_error(y_test, prediction))\n",
    "print('RMSE:', np.sqrt(metrics.mean_squared_error(y_test, prediction)))"
   ]
  },
  {
   "cell_type": "code",
   "execution_count": 118,
   "metadata": {},
   "outputs": [
    {
     "data": {
      "text/plain": [
       "LinearRegression(copy_X=True, fit_intercept=True, n_jobs=None, normalize=False)"
      ]
     },
     "execution_count": 118,
     "metadata": {},
     "output_type": "execute_result"
    }
   ],
   "source": [
    "lm"
   ]
  },
  {
   "cell_type": "code",
   "execution_count": null,
   "metadata": {},
   "outputs": [],
   "source": []
  },
  {
   "cell_type": "code",
   "execution_count": null,
   "metadata": {},
   "outputs": [],
   "source": []
  },
  {
   "cell_type": "code",
   "execution_count": null,
   "metadata": {},
   "outputs": [],
   "source": []
  },
  {
   "cell_type": "code",
   "execution_count": null,
   "metadata": {},
   "outputs": [],
   "source": []
  },
  {
   "cell_type": "code",
   "execution_count": null,
   "metadata": {},
   "outputs": [],
   "source": []
  },
  {
   "cell_type": "code",
   "execution_count": null,
   "metadata": {},
   "outputs": [],
   "source": []
  },
  {
   "cell_type": "code",
   "execution_count": null,
   "metadata": {},
   "outputs": [],
   "source": []
  },
  {
   "cell_type": "code",
   "execution_count": null,
   "metadata": {},
   "outputs": [],
   "source": []
  },
  {
   "cell_type": "code",
   "execution_count": null,
   "metadata": {},
   "outputs": [],
   "source": []
  },
  {
   "cell_type": "code",
   "execution_count": null,
   "metadata": {},
   "outputs": [],
   "source": []
  },
  {
   "cell_type": "code",
   "execution_count": null,
   "metadata": {},
   "outputs": [],
   "source": []
  },
  {
   "cell_type": "code",
   "execution_count": null,
   "metadata": {},
   "outputs": [],
   "source": []
  },
  {
   "cell_type": "code",
   "execution_count": 119,
   "metadata": {},
   "outputs": [],
   "source": [
    "test = pd.read_csv('test.csv')"
   ]
  },
  {
   "cell_type": "code",
   "execution_count": 120,
   "metadata": {},
   "outputs": [
    {
     "data": {
      "text/html": [
       "<div>\n",
       "<style scoped>\n",
       "    .dataframe tbody tr th:only-of-type {\n",
       "        vertical-align: middle;\n",
       "    }\n",
       "\n",
       "    .dataframe tbody tr th {\n",
       "        vertical-align: top;\n",
       "    }\n",
       "\n",
       "    .dataframe thead th {\n",
       "        text-align: right;\n",
       "    }\n",
       "</style>\n",
       "<table border=\"1\" class=\"dataframe\">\n",
       "  <thead>\n",
       "    <tr style=\"text-align: right;\">\n",
       "      <th></th>\n",
       "      <th>id</th>\n",
       "      <th>region_id</th>\n",
       "      <th>category_id</th>\n",
       "      <th>district_id</th>\n",
       "      <th>city_id</th>\n",
       "      <th>user_id</th>\n",
       "      <th>created_at_first</th>\n",
       "      <th>title</th>\n",
       "      <th>description</th>\n",
       "      <th>listing_num_images</th>\n",
       "      <th>listing_price</th>\n",
       "      <th>l1</th>\n",
       "      <th>l2</th>\n",
       "    </tr>\n",
       "  </thead>\n",
       "  <tbody>\n",
       "    <tr>\n",
       "      <th>0</th>\n",
       "      <td>1000020</td>\n",
       "      <td>5042</td>\n",
       "      <td>882</td>\n",
       "      <td>65535.0</td>\n",
       "      <td>299952</td>\n",
       "      <td>1148634</td>\n",
       "      <td>2018-06-05 11:57:42</td>\n",
       "      <td>Bicycle</td>\n",
       "      <td>NaN</td>\n",
       "      <td>6</td>\n",
       "      <td>1900.0</td>\n",
       "      <td>Sports &amp; Outdoors</td>\n",
       "      <td>Bicycles</td>\n",
       "    </tr>\n",
       "    <tr>\n",
       "      <th>1</th>\n",
       "      <td>1000025</td>\n",
       "      <td>5042</td>\n",
       "      <td>377</td>\n",
       "      <td>65535.0</td>\n",
       "      <td>61323</td>\n",
       "      <td>1027629</td>\n",
       "      <td>2018-06-05 12:20:21</td>\n",
       "      <td>Toyota New &amp; Used Tail Lights</td>\n",
       "      <td>We at AMS Specialise in Used and New Replaceme...</td>\n",
       "      <td>7</td>\n",
       "      <td>1.0</td>\n",
       "      <td>Vehicles</td>\n",
       "      <td>Car Parts &amp; Accessories</td>\n",
       "    </tr>\n",
       "    <tr>\n",
       "      <th>2</th>\n",
       "      <td>1000047</td>\n",
       "      <td>5042</td>\n",
       "      <td>807</td>\n",
       "      <td>65535.0</td>\n",
       "      <td>7000502</td>\n",
       "      <td>1195460</td>\n",
       "      <td>2018-06-19 13:39:07</td>\n",
       "      <td>A Double bed. Base and Mattress set with white...</td>\n",
       "      <td>A Double bed. Base  and Mattress set with whit...</td>\n",
       "      <td>8</td>\n",
       "      <td>2200.0</td>\n",
       "      <td>Home, Garden &amp; Tools</td>\n",
       "      <td>Furniture &amp; Decor</td>\n",
       "    </tr>\n",
       "    <tr>\n",
       "      <th>3</th>\n",
       "      <td>1000054</td>\n",
       "      <td>5040</td>\n",
       "      <td>5171</td>\n",
       "      <td>65535.0</td>\n",
       "      <td>61231</td>\n",
       "      <td>1007869</td>\n",
       "      <td>2018-06-19 14:02:54</td>\n",
       "      <td>Screen printing Business for sale</td>\n",
       "      <td>Ideal for starting your own business at home a...</td>\n",
       "      <td>5</td>\n",
       "      <td>8500.0</td>\n",
       "      <td>Office &amp; Business</td>\n",
       "      <td>Businesses for Sale</td>\n",
       "    </tr>\n",
       "    <tr>\n",
       "      <th>4</th>\n",
       "      <td>1000064</td>\n",
       "      <td>5048</td>\n",
       "      <td>378</td>\n",
       "      <td>65535.0</td>\n",
       "      <td>61491</td>\n",
       "      <td>1155621</td>\n",
       "      <td>2018-06-19 14:39:06</td>\n",
       "      <td>2003 Volkswagen Jetta 4</td>\n",
       "      <td>Jetta 4 2003 2L. Full House. Leather interior,...</td>\n",
       "      <td>7</td>\n",
       "      <td>50000.0</td>\n",
       "      <td>Vehicles</td>\n",
       "      <td>Cars &amp; Bakkies</td>\n",
       "    </tr>\n",
       "  </tbody>\n",
       "</table>\n",
       "</div>"
      ],
      "text/plain": [
       "        id  region_id  category_id  district_id  city_id  user_id  \\\n",
       "0  1000020       5042          882      65535.0   299952  1148634   \n",
       "1  1000025       5042          377      65535.0    61323  1027629   \n",
       "2  1000047       5042          807      65535.0  7000502  1195460   \n",
       "3  1000054       5040         5171      65535.0    61231  1007869   \n",
       "4  1000064       5048          378      65535.0    61491  1155621   \n",
       "\n",
       "      created_at_first                                              title  \\\n",
       "0  2018-06-05 11:57:42                                            Bicycle   \n",
       "1  2018-06-05 12:20:21                      Toyota New & Used Tail Lights   \n",
       "2  2018-06-19 13:39:07  A Double bed. Base and Mattress set with white...   \n",
       "3  2018-06-19 14:02:54                  Screen printing Business for sale   \n",
       "4  2018-06-19 14:39:06                            2003 Volkswagen Jetta 4   \n",
       "\n",
       "                                         description  listing_num_images  \\\n",
       "0                                                NaN                   6   \n",
       "1  We at AMS Specialise in Used and New Replaceme...                   7   \n",
       "2  A Double bed. Base  and Mattress set with whit...                   8   \n",
       "3  Ideal for starting your own business at home a...                   5   \n",
       "4  Jetta 4 2003 2L. Full House. Leather interior,...                   7   \n",
       "\n",
       "   listing_price                    l1                       l2  \n",
       "0         1900.0     Sports & Outdoors                 Bicycles  \n",
       "1            1.0              Vehicles  Car Parts & Accessories  \n",
       "2         2200.0  Home, Garden & Tools        Furniture & Decor  \n",
       "3         8500.0     Office & Business      Businesses for Sale  \n",
       "4        50000.0              Vehicles           Cars & Bakkies  "
      ]
     },
     "execution_count": 120,
     "metadata": {},
     "output_type": "execute_result"
    }
   ],
   "source": [
    "test.head()"
   ]
  },
  {
   "cell_type": "code",
   "execution_count": 121,
   "metadata": {},
   "outputs": [
    {
     "data": {
      "text/html": [
       "<div>\n",
       "<style scoped>\n",
       "    .dataframe tbody tr th:only-of-type {\n",
       "        vertical-align: middle;\n",
       "    }\n",
       "\n",
       "    .dataframe tbody tr th {\n",
       "        vertical-align: top;\n",
       "    }\n",
       "\n",
       "    .dataframe thead th {\n",
       "        text-align: right;\n",
       "    }\n",
       "</style>\n",
       "<table border=\"1\" class=\"dataframe\">\n",
       "  <thead>\n",
       "    <tr style=\"text-align: right;\">\n",
       "      <th></th>\n",
       "      <th>region_id</th>\n",
       "      <th>category_id</th>\n",
       "      <th>city_id</th>\n",
       "      <th>listing_num_images</th>\n",
       "      <th>Farming &amp; Industrial</th>\n",
       "      <th>Fashion &amp; Beauty</th>\n",
       "      <th>Hobbies &amp; Interests</th>\n",
       "      <th>Home, Garden &amp; Tools</th>\n",
       "      <th>Jobs</th>\n",
       "      <th>Kids &amp; Baby</th>\n",
       "      <th>...</th>\n",
       "      <th>Rooms for rent &amp; Shared</th>\n",
       "      <th>Shop &amp; Catering Equipment</th>\n",
       "      <th>TV, Audio &amp; Visual</th>\n",
       "      <th>Toddler's Clothing &amp; Accessories</th>\n",
       "      <th>Tools &amp; DIY</th>\n",
       "      <th>Toys, Games &amp; Remote Control</th>\n",
       "      <th>Transport</th>\n",
       "      <th>Trucks &amp; Commercial Vehicles</th>\n",
       "      <th>Vacation Rentals</th>\n",
       "      <th>iPads &amp; Tablets</th>\n",
       "    </tr>\n",
       "  </thead>\n",
       "  <tbody>\n",
       "    <tr>\n",
       "      <th>0</th>\n",
       "      <td>5042</td>\n",
       "      <td>882</td>\n",
       "      <td>299952</td>\n",
       "      <td>6</td>\n",
       "      <td>0</td>\n",
       "      <td>0</td>\n",
       "      <td>0</td>\n",
       "      <td>0</td>\n",
       "      <td>0</td>\n",
       "      <td>0</td>\n",
       "      <td>...</td>\n",
       "      <td>0</td>\n",
       "      <td>0</td>\n",
       "      <td>0</td>\n",
       "      <td>0</td>\n",
       "      <td>0</td>\n",
       "      <td>0</td>\n",
       "      <td>0</td>\n",
       "      <td>0</td>\n",
       "      <td>0</td>\n",
       "      <td>0</td>\n",
       "    </tr>\n",
       "    <tr>\n",
       "      <th>1</th>\n",
       "      <td>5042</td>\n",
       "      <td>377</td>\n",
       "      <td>61323</td>\n",
       "      <td>7</td>\n",
       "      <td>0</td>\n",
       "      <td>0</td>\n",
       "      <td>0</td>\n",
       "      <td>0</td>\n",
       "      <td>0</td>\n",
       "      <td>0</td>\n",
       "      <td>...</td>\n",
       "      <td>0</td>\n",
       "      <td>0</td>\n",
       "      <td>0</td>\n",
       "      <td>0</td>\n",
       "      <td>0</td>\n",
       "      <td>0</td>\n",
       "      <td>0</td>\n",
       "      <td>0</td>\n",
       "      <td>0</td>\n",
       "      <td>0</td>\n",
       "    </tr>\n",
       "    <tr>\n",
       "      <th>2</th>\n",
       "      <td>5042</td>\n",
       "      <td>807</td>\n",
       "      <td>7000502</td>\n",
       "      <td>8</td>\n",
       "      <td>0</td>\n",
       "      <td>0</td>\n",
       "      <td>0</td>\n",
       "      <td>1</td>\n",
       "      <td>0</td>\n",
       "      <td>0</td>\n",
       "      <td>...</td>\n",
       "      <td>0</td>\n",
       "      <td>0</td>\n",
       "      <td>0</td>\n",
       "      <td>0</td>\n",
       "      <td>0</td>\n",
       "      <td>0</td>\n",
       "      <td>0</td>\n",
       "      <td>0</td>\n",
       "      <td>0</td>\n",
       "      <td>0</td>\n",
       "    </tr>\n",
       "    <tr>\n",
       "      <th>3</th>\n",
       "      <td>5040</td>\n",
       "      <td>5171</td>\n",
       "      <td>61231</td>\n",
       "      <td>5</td>\n",
       "      <td>0</td>\n",
       "      <td>0</td>\n",
       "      <td>0</td>\n",
       "      <td>0</td>\n",
       "      <td>0</td>\n",
       "      <td>0</td>\n",
       "      <td>...</td>\n",
       "      <td>0</td>\n",
       "      <td>0</td>\n",
       "      <td>0</td>\n",
       "      <td>0</td>\n",
       "      <td>0</td>\n",
       "      <td>0</td>\n",
       "      <td>0</td>\n",
       "      <td>0</td>\n",
       "      <td>0</td>\n",
       "      <td>0</td>\n",
       "    </tr>\n",
       "    <tr>\n",
       "      <th>4</th>\n",
       "      <td>5048</td>\n",
       "      <td>378</td>\n",
       "      <td>61491</td>\n",
       "      <td>7</td>\n",
       "      <td>0</td>\n",
       "      <td>0</td>\n",
       "      <td>0</td>\n",
       "      <td>0</td>\n",
       "      <td>0</td>\n",
       "      <td>0</td>\n",
       "      <td>...</td>\n",
       "      <td>0</td>\n",
       "      <td>0</td>\n",
       "      <td>0</td>\n",
       "      <td>0</td>\n",
       "      <td>0</td>\n",
       "      <td>0</td>\n",
       "      <td>0</td>\n",
       "      <td>0</td>\n",
       "      <td>0</td>\n",
       "      <td>0</td>\n",
       "    </tr>\n",
       "  </tbody>\n",
       "</table>\n",
       "<p>5 rows × 70 columns</p>\n",
       "</div>"
      ],
      "text/plain": [
       "   region_id  category_id  city_id  listing_num_images  Farming & Industrial  \\\n",
       "0       5042          882   299952                   6                     0   \n",
       "1       5042          377    61323                   7                     0   \n",
       "2       5042          807  7000502                   8                     0   \n",
       "3       5040         5171    61231                   5                     0   \n",
       "4       5048          378    61491                   7                     0   \n",
       "\n",
       "   Fashion & Beauty  Hobbies & Interests  Home, Garden & Tools  Jobs  \\\n",
       "0                 0                    0                     0     0   \n",
       "1                 0                    0                     0     0   \n",
       "2                 0                    0                     1     0   \n",
       "3                 0                    0                     0     0   \n",
       "4                 0                    0                     0     0   \n",
       "\n",
       "   Kids & Baby  ...  Rooms for rent & Shared  Shop & Catering Equipment  \\\n",
       "0            0  ...                        0                          0   \n",
       "1            0  ...                        0                          0   \n",
       "2            0  ...                        0                          0   \n",
       "3            0  ...                        0                          0   \n",
       "4            0  ...                        0                          0   \n",
       "\n",
       "   TV, Audio & Visual  Toddler's Clothing & Accessories  Tools & DIY  \\\n",
       "0                   0                                 0            0   \n",
       "1                   0                                 0            0   \n",
       "2                   0                                 0            0   \n",
       "3                   0                                 0            0   \n",
       "4                   0                                 0            0   \n",
       "\n",
       "   Toys, Games & Remote Control  Transport  Trucks & Commercial Vehicles  \\\n",
       "0                             0          0                             0   \n",
       "1                             0          0                             0   \n",
       "2                             0          0                             0   \n",
       "3                             0          0                             0   \n",
       "4                             0          0                             0   \n",
       "\n",
       "   Vacation Rentals  iPads & Tablets  \n",
       "0                 0                0  \n",
       "1                 0                0  \n",
       "2                 0                0  \n",
       "3                 0                0  \n",
       "4                 0                0  \n",
       "\n",
       "[5 rows x 70 columns]"
      ]
     },
     "execution_count": 121,
     "metadata": {},
     "output_type": "execute_result"
    }
   ],
   "source": [
    "X_testing = test[['region_id','category_id','city_id','listing_num_images']]\n",
    "c = pd.get_dummies(test['l1'],drop_first=True)\n",
    "X_testing = pd.concat([X_testing,c],axis=1)\n",
    "c = pd.get_dummies(test['l2'],drop_first=True)\n",
    "X_testing = pd.concat([X_testing,c],axis=1)\n",
    "X_testing.head()"
   ]
  },
  {
   "cell_type": "code",
   "execution_count": 122,
   "metadata": {},
   "outputs": [],
   "source": [
    "X_testing = pd.concat([test['id'],X_testing],axis=1)"
   ]
  },
  {
   "cell_type": "code",
   "execution_count": 123,
   "metadata": {},
   "outputs": [
    {
     "data": {
      "text/plain": [
       "<matplotlib.axes._subplots.AxesSubplot at 0x7fb14ed83518>"
      ]
     },
     "execution_count": 123,
     "metadata": {},
     "output_type": "execute_result"
    },
    {
     "data": {
      "image/png": "[encoded data removed]",
      "text/plain": [
       "<Figure size 432x288 with 2 Axes>"
      ]
     },
     "metadata": {
      "needs_background": "light"
     },
     "output_type": "display_data"
    }
   ],
   "source": [
    "sns.heatmap(X_testing.isnull(),cmap='viridis')"
   ]
  },
  {
   "cell_type": "code",
   "execution_count": null,
   "metadata": {},
   "outputs": [],
   "source": []
  },
  {
   "cell_type": "code",
   "execution_count": null,
   "metadata": {},
   "outputs": [],
   "source": []
  },
  {
   "cell_type": "code",
   "execution_count": null,
   "metadata": {},
   "outputs": [],
   "source": []
  },
  {
   "cell_type": "code",
   "execution_count": 124,
   "metadata": {},
   "outputs": [],
   "source": [
    "prediction = lm.predict(X_testing)"
   ]
  },
  {
   "cell_type": "code",
   "execution_count": 125,
   "metadata": {},
   "outputs": [],
   "source": [
    "sub = pd.DataFrame(prediction,index=X_testing['id'],columns=['demand'])"
   ]
  },
  {
   "cell_type": "code",
   "execution_count": null,
   "metadata": {},
   "outputs": [],
   "source": []
  },
  {
   "cell_type": "code",
   "execution_count": null,
   "metadata": {},
   "outputs": [],
   "source": []
  },
  {
   "cell_type": "code",
   "execution_count": null,
   "metadata": {},
   "outputs": [],
   "source": []
  },
  {
   "cell_type": "code",
   "execution_count": null,
   "metadata": {},
   "outputs": [],
   "source": []
  },
  {
   "cell_type": "code",
   "execution_count": null,
   "metadata": {},
   "outputs": [],
   "source": []
  },
  {
   "cell_type": "code",
   "execution_count": null,
   "metadata": {},
   "outputs": [],
   "source": []
  },
  {
   "cell_type": "code",
   "execution_count": 126,
   "metadata": {},
   "outputs": [
    {
     "data": {
      "text/html": [
       "<div>\n",
       "<style scoped>\n",
       "    .dataframe tbody tr th:only-of-type {\n",
       "        vertical-align: middle;\n",
       "    }\n",
       "\n",
       "    .dataframe tbody tr th {\n",
       "        vertical-align: top;\n",
       "    }\n",
       "\n",
       "    .dataframe thead th {\n",
       "        text-align: right;\n",
       "    }\n",
       "</style>\n",
       "<table border=\"1\" class=\"dataframe\">\n",
       "  <thead>\n",
       "    <tr style=\"text-align: right;\">\n",
       "      <th></th>\n",
       "      <th>demand</th>\n",
       "    </tr>\n",
       "    <tr>\n",
       "      <th>id</th>\n",
       "      <th></th>\n",
       "    </tr>\n",
       "  </thead>\n",
       "  <tbody>\n",
       "    <tr>\n",
       "      <th>1000020</th>\n",
       "      <td>0.354142</td>\n",
       "    </tr>\n",
       "    <tr>\n",
       "      <th>1000025</th>\n",
       "      <td>0.287073</td>\n",
       "    </tr>\n",
       "    <tr>\n",
       "      <th>1000047</th>\n",
       "      <td>0.331427</td>\n",
       "    </tr>\n",
       "    <tr>\n",
       "      <th>1000054</th>\n",
       "      <td>0.331476</td>\n",
       "    </tr>\n",
       "    <tr>\n",
       "      <th>1000064</th>\n",
       "      <td>0.387908</td>\n",
       "    </tr>\n",
       "  </tbody>\n",
       "</table>\n",
       "</div>"
      ],
      "text/plain": [
       "           demand\n",
       "id               \n",
       "1000020  0.354142\n",
       "1000025  0.287073\n",
       "1000047  0.331427\n",
       "1000054  0.331476\n",
       "1000064  0.387908"
      ]
     },
     "execution_count": 126,
     "metadata": {},
     "output_type": "execute_result"
    }
   ],
   "source": [
    "sub.head()"
   ]
  },
  {
   "cell_type": "code",
   "execution_count": 127,
   "metadata": {},
   "outputs": [
    {
     "name": "stdout",
     "output_type": "stream",
     "text": [
      "<class 'pandas.core.frame.DataFrame'>\n",
      "Int64Index: 86400 entries, 1000020 to 1050345\n",
      "Data columns (total 1 columns):\n",
      "demand    86400 non-null float64\n",
      "dtypes: float64(1)\n",
      "memory usage: 1.3 MB\n"
     ]
    }
   ],
   "source": [
    "sub.info()"
   ]
  },
  {
   "cell_type": "code",
   "execution_count": 128,
   "metadata": {},
   "outputs": [],
   "source": [
    "sub.reset_index(inplace=True)"
   ]
  },
  {
   "cell_type": "code",
   "execution_count": 129,
   "metadata": {},
   "outputs": [],
   "source": [
    "sub.to_csv(\"samplesub.csv\",index=False)"
   ]
  },
  {
   "cell_type": "code",
   "execution_count": null,
   "metadata": {
    "collapsed": true
   },
   "outputs": [],
   "source": []
  },
  {
   "cell_type": "code",
   "execution_count": null,
   "metadata": {
    "collapsed": true
   },
   "outputs": [],
   "source": []
  }
 ],
 "metadata": {
  "kernelspec": {
   "display_name": "Python 3",
   "language": "python",
   "name": "python3"
  },
  "language_info": {
   "codemirror_mode": {
    "name": "ipython",
    "version": 3
   },
   "file_extension": ".py",
   "mimetype": "text/x-python",
   "name": "python",
   "nbconvert_exporter": "python",
   "pygments_lexer": "ipython3",
   "version": "3.6.9"
  }
 },
 "nbformat": 4,
 "nbformat_minor": 2
}
